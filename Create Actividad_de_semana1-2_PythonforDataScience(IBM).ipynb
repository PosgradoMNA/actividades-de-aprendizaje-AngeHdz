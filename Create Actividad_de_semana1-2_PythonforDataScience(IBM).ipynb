{
  "nbformat": 4,
  "nbformat_minor": 0,
  "metadata": {
    "colab": {
      "name": "assignment01.ipynb",
      "provenance": [],
      "include_colab_link": true
    },
    "kernelspec": {
      "name": "python3",
      "display_name": "Python 3"
    },
    "language_info": {
      "name": "python"
    }
  },
  "cells": [
    {
      "cell_type": "markdown",
      "metadata": {
        "id": "view-in-github",
        "colab_type": "text"
      },
      "source": [
        "<a href=\"https://colab.research.google.com/github/PosgradoMNA/actividades-de-aprendizaje-AngeHdz/blob/main/Create%20Actividad_de_semana1-2_PythonforDataScience(IBM).ipynb\" target=\"_parent\"><img src=\"https://colab.research.google.com/assets/colab-badge.svg\" alt=\"Open In Colab\"/></a>"
      ]
    },
    {
      "cell_type": "markdown",
      "source": [
        "# Modulo 1 - Python Basics"
      ],
      "metadata": {
        "id": "qVWPua6tvOjB"
      }
    },
    {
      "cell_type": "code",
      "source": [
        "# Print Hello Python 101\n",
        "print('Hello Python 101')"
      ],
      "metadata": {
        "colab": {
          "base_uri": "https://localhost:8080/"
        },
        "id": "VrYG5txRvbkb",
        "outputId": "69747b6d-c61d-49b8-89ba-76ac8fa2ed5a"
      },
      "execution_count": 3,
      "outputs": [
        {
          "output_type": "stream",
          "name": "stdout",
          "text": [
            "Hello Python 101\n"
          ]
        }
      ]
    },
    {
      "cell_type": "code",
      "source": [
        "#Question 1 executing print(\"Hello\\nworl!\")\n",
        "print(\"Hello\\nworl!\")"
      ],
      "metadata": {
        "colab": {
          "base_uri": "https://localhost:8080/"
        },
        "id": "4GFfdzW1wb5j",
        "outputId": "47785160-b1b9-4a7d-8af2-a1e674dfe231"
      },
      "execution_count": 4,
      "outputs": [
        {
          "output_type": "stream",
          "name": "stdout",
          "text": [
            "Hello\n",
            "worl!\n"
          ]
        }
      ]
    },
    {
      "cell_type": "code",
      "source": [
        "# Question 2 #print('Hello World!')\n",
        "#print('Hello World!')"
      ],
      "metadata": {
        "id": "AMue0JtCwrxY"
      },
      "execution_count": 6,
      "outputs": []
    },
    {
      "cell_type": "code",
      "source": [
        "#Enter the code to convert the number 1 to a Boolean.\n",
        "bool(1)"
      ],
      "metadata": {
        "colab": {
          "base_uri": "https://localhost:8080/"
        },
        "id": "3hPyO71_y75Q",
        "outputId": "5ba9088f-bdc3-47b1-f3ad-de473a82158a"
      },
      "execution_count": 7,
      "outputs": [
        {
          "output_type": "execute_result",
          "data": {
            "text/plain": [
              "True"
            ]
          },
          "metadata": {},
          "execution_count": 7
        }
      ]
    },
    {
      "cell_type": "code",
      "source": [
        "#String \n",
        "\n",
        "Name = \"Michael Jackson\"\n",
        "\n",
        "print(Name[0])\n",
        "print(Name[6])\n",
        "print(Name[13])\n",
        "\n",
        "print(Name[-1])\n",
        "print(Name[-15])\n",
        "\n",
        "#String: Slicing\n",
        "print(Name[0:4])\n",
        "print(Name[8:12])\n",
        "\n",
        "#String: Stride\n",
        "print(Name[::2])\n",
        "print(Name[0:5:2])\n",
        "\n",
        "len(\"Michael Jackson\")\n",
        "\n",
        "Statement = Name + \" is the best\"\n",
        "print(Statement)\n",
        "\n",
        "#Tuples\n",
        "\n",
        "print(3*\"Michael Jackson \")\n",
        "\n",
        "#String: Inmutable\n",
        "\n",
        "Name = Name + \" is the best\"\n",
        "print(Name)\n",
        "\n",
        "\n",
        "#String: escape sequences\n",
        "\n",
        "#New line\n",
        "print(\"Michael Jackson \\n is the best\")\n",
        "\n",
        "#Tab\n",
        "print(\"Michael Jacson \\t is the best\")\n",
        "\n",
        "#Print a backslash\n",
        "print(\"Michael Jackson \\\\ is the best\")\n",
        "print(r\"Michael Jackson \\ is the best\")"
      ],
      "metadata": {
        "colab": {
          "base_uri": "https://localhost:8080/"
        },
        "id": "79juuDc71GTg",
        "outputId": "4086d36c-4048-4183-b17b-5dfb88d0bd70"
      },
      "execution_count": 26,
      "outputs": [
        {
          "output_type": "stream",
          "name": "stdout",
          "text": [
            "M\n",
            "l\n",
            "o\n",
            "n\n",
            "M\n",
            "Mich\n",
            "Jack\n",
            "McalJcsn\n",
            "Mca\n",
            "Michael Jackson is the best\n",
            "Michael Jackson Michael Jackson Michael Jackson \n",
            "Michael Jackson is the best\n",
            "Michael Jackson \n",
            " is the best\n",
            "Michael Jacson \t is the best\n",
            "Michael Jackson \\ is the best\n",
            "Michael Jackson \\ is the best\n"
          ]
        }
      ]
    },
    {
      "cell_type": "code",
      "source": [
        "#String Methods\n",
        "\n",
        "#Method upper()\n",
        "A = \"Thriller is the sixth studio album\"\n",
        "B = A.upper();\n",
        "print(B)\n",
        "\n",
        "#Method replace()\n",
        "A = 'Michael Jackson is the best'\n",
        "B= A.replace('Michael','Janet')\n",
        "print(B)\n",
        "\n",
        "#Method find\n",
        "Name = \"Michael Jackson\"\n",
        "print(Name.find('el'))\n",
        "print(Name.find('Jack'))\n",
        "print(Name.find('&*D'))\n",
        "\n",
        "\n",
        "#Question1 Numbers = '0123456'\n",
        "Numbers = '0123456'\n",
        "Numbers[::2]\n",
        "\n",
        "#Question2 \"0123456\".find('1')\n",
        "\"0123456\".find('1')\n",
        "\n",
        "\n",
        "#Review Questions\n",
        "\n",
        "#1 What is the result of the following operation in Python:3+2*2\n",
        "3+2*2\n",
        "#2 In Python, if you executed name = 'Lizz', what would be the output of print(name[0:2])?\n",
        "name = 'Lizz'\n",
        "print(name[0:2])\n",
        "#3 In Python, if you executed var = '01234567', what would be the result of print(var[::2])?\n",
        "var= '01234567'\n",
        "print(var[::2])\n",
        "#4 In Python, what is the result of the following operation '1'+'2'?\n",
        "'1' + '2'\n",
        "#5 Given myvar = 'hello', how would you convert myvar into uppercase?\n",
        "myvar = 'hello'\n",
        "myvar.upper()"
      ],
      "metadata": {
        "colab": {
          "base_uri": "https://localhost:8080/",
          "height": 157
        },
        "id": "IVX_kYfa4x6Z",
        "outputId": "dd2a10e2-0190-437b-f459-ec384513e379"
      },
      "execution_count": 50,
      "outputs": [
        {
          "output_type": "stream",
          "name": "stdout",
          "text": [
            "THRILLER IS THE SIXTH STUDIO ALBUM\n",
            "Janet Jackson is the best\n",
            "5\n",
            "8\n",
            "-1\n",
            "Li\n",
            "0246\n"
          ]
        },
        {
          "output_type": "execute_result",
          "data": {
            "text/plain": [
              "'HELLO'"
            ],
            "application/vnd.google.colaboratory.intrinsic+json": {
              "type": "string"
            }
          },
          "metadata": {},
          "execution_count": 50
        }
      ]
    },
    {
      "cell_type": "markdown",
      "source": [
        "# Module 2 - Python Data Structures"
      ],
      "metadata": {
        "id": "CifQAd2Q92m1"
      }
    },
    {
      "cell_type": "code",
      "source": [
        "# Tuples\n",
        "Rating = (10,9,6,5,10,8,9,6,2)\n",
        "Tuple1 =('disco',10,1.2)\n",
        "type(Tuple1)\n",
        "print(Tuple1[0])\n",
        "print(Tuple1[1])\n",
        "print(Tuple1[2])\n",
        "print('/////////////')\n",
        "print(Tuple1[-3])\n",
        "print(Tuple1[-2])\n",
        "print(Tuple1[-1])\n",
        "\n",
        "Tuple2 = Tuple1 + (\"hard rock\", 10)\n",
        "print(Tuple2)\n",
        "#Get the firts 3 elements\n",
        "print(Tuple2[0:3])\n",
        "#Get the last 2 elements\n",
        "print(Tuple2[3:5])\n",
        "#Get de Lenght\n",
        "print(len(Tuple2))\n",
        "\n",
        "\n",
        "#Tuples: Immutable\n",
        "print(\"#Tuples: Immutable////////////////////////////////\")\n",
        "Ratings = (10,9,6,5,10,8,9,6,2)\n",
        "RatingSorted = sorted(Ratings)\n",
        "print(RatingSorted)\n",
        "\n",
        "#List\n",
        "print(\"#List////////////////////////////////\")\n",
        "L= [\"Michael Jackson\", 10.1,1982]\n",
        "print(L)\n",
        "print(L[0])\n",
        "print(L[1])\n",
        "print(L[2])\n",
        "print(L[-3])\n",
        "print(L[-2])\n",
        "print(L[-1])\n",
        "\n",
        "L= [\"Michael Jackson\", 10.1,1982,\"MJ\",1]\n",
        "print(L[3:5])\n",
        "\n",
        "L=[\"Michael Jackson\",10.1,1982] \n",
        "L1 = L + [\"pop\",10]\n",
        "print(L1)\n",
        "L.extend([\"pop\",10])\n",
        "print(L)\n",
        "L=[\"Michael Jackson\",10.1,1982] \n",
        "L.append([\"pop\",10])\n",
        "print(L)\n",
        "\n",
        "#Modify a value in a List\n",
        "A = [\"disco\",10,1.2]\n",
        "A[0] = \"hard rock\"\n",
        "print(A)\n",
        "#Delete the first element\n",
        "del(A[0])\n",
        "print(A)\n",
        "\n",
        "print(\"hard rock\".split())\n",
        "\n",
        "print(\"A,B,C,D\".split(\",\"))"
      ],
      "metadata": {
        "colab": {
          "base_uri": "https://localhost:8080/"
        },
        "id": "GBCew0Yw-Gro",
        "outputId": "b72a23a0-c62b-49d8-a3f7-107c5d73ddb2"
      },
      "execution_count": 100,
      "outputs": [
        {
          "output_type": "stream",
          "name": "stdout",
          "text": [
            "disco\n",
            "10\n",
            "1.2\n",
            "/////////////\n",
            "disco\n",
            "10\n",
            "1.2\n",
            "('disco', 10, 1.2, 'hard rock', 10)\n",
            "('disco', 10, 1.2)\n",
            "('hard rock', 10)\n",
            "5\n",
            "#Tuples: Immutable////////////////////////////////\n",
            "[2, 5, 6, 6, 8, 9, 9, 10, 10]\n",
            "#List////////////////////////////////\n",
            "['Michael Jackson', 10.1, 1982]\n",
            "Michael Jackson\n",
            "10.1\n",
            "1982\n",
            "Michael Jackson\n",
            "10.1\n",
            "1982\n",
            "['MJ', 1]\n",
            "['Michael Jackson', 10.1, 1982, 'pop', 10]\n",
            "['Michael Jackson', 10.1, 1982, 'pop', 10]\n",
            "['Michael Jackson', 10.1, 1982, ['pop', 10]]\n",
            "['hard rock', 10, 1.2]\n",
            "[10, 1.2]\n",
            "['hard', 'rock']\n",
            "['A', 'B', 'C', 'D']\n",
            "['banana', 10, 1.2]\n",
            "['banana', 10, 1.2]\n",
            "['banana', 10, 1.2]\n",
            "['hard rock', 10, 1.2]\n"
          ]
        }
      ]
    },
    {
      "cell_type": "code",
      "source": [
        "#List Aliasing\n",
        "A = [\"hard rock\",10,1.2]\n",
        "B = A\n",
        "A[0] = \"banana\"\n",
        "print(A)\n",
        "print(B)"
      ],
      "metadata": {
        "colab": {
          "base_uri": "https://localhost:8080/"
        },
        "id": "qMBLiXM7GBx-",
        "outputId": "e1c9e8aa-220c-4916-f75a-361f5cc4f4bd"
      },
      "execution_count": 101,
      "outputs": [
        {
          "output_type": "stream",
          "name": "stdout",
          "text": [
            "['banana', 10, 1.2]\n",
            "['banana', 10, 1.2]\n"
          ]
        }
      ]
    },
    {
      "cell_type": "code",
      "source": [
        "\n",
        "#List Clone\n",
        "A = [\"hard rock\",10,1.2]\n",
        "B = A[:]\n",
        "A[0] = \"banana\"\n",
        "print(A)\n",
        "print(B)"
      ],
      "metadata": {
        "colab": {
          "base_uri": "https://localhost:8080/"
        },
        "id": "7XW3KyYvGHYG",
        "outputId": "80c7c084-8135-42d9-ed9b-49e89ab08d00"
      },
      "execution_count": 102,
      "outputs": [
        {
          "output_type": "stream",
          "name": "stdout",
          "text": [
            "['banana', 10, 1.2]\n",
            "['hard rock', 10, 1.2]\n"
          ]
        }
      ]
    },
    {
      "cell_type": "code",
      "source": [
        "#Get Help\n",
        "A = [\"hard rock\",10,1.2]\n",
        "help(A)"
      ],
      "metadata": {
        "colab": {
          "base_uri": "https://localhost:8080/"
        },
        "id": "enO2zlO4GXU_",
        "outputId": "2797d7bd-cb34-43cb-f4a2-ba1503107c90"
      },
      "execution_count": 104,
      "outputs": [
        {
          "output_type": "stream",
          "name": "stdout",
          "text": [
            "Help on list object:\n",
            "\n",
            "class list(object)\n",
            " |  list(iterable=(), /)\n",
            " |  \n",
            " |  Built-in mutable sequence.\n",
            " |  \n",
            " |  If no argument is given, the constructor creates a new empty list.\n",
            " |  The argument must be an iterable if specified.\n",
            " |  \n",
            " |  Methods defined here:\n",
            " |  \n",
            " |  __add__(self, value, /)\n",
            " |      Return self+value.\n",
            " |  \n",
            " |  __contains__(self, key, /)\n",
            " |      Return key in self.\n",
            " |  \n",
            " |  __delitem__(self, key, /)\n",
            " |      Delete self[key].\n",
            " |  \n",
            " |  __eq__(self, value, /)\n",
            " |      Return self==value.\n",
            " |  \n",
            " |  __ge__(self, value, /)\n",
            " |      Return self>=value.\n",
            " |  \n",
            " |  __getattribute__(self, name, /)\n",
            " |      Return getattr(self, name).\n",
            " |  \n",
            " |  __getitem__(...)\n",
            " |      x.__getitem__(y) <==> x[y]\n",
            " |  \n",
            " |  __gt__(self, value, /)\n",
            " |      Return self>value.\n",
            " |  \n",
            " |  __iadd__(self, value, /)\n",
            " |      Implement self+=value.\n",
            " |  \n",
            " |  __imul__(self, value, /)\n",
            " |      Implement self*=value.\n",
            " |  \n",
            " |  __init__(self, /, *args, **kwargs)\n",
            " |      Initialize self.  See help(type(self)) for accurate signature.\n",
            " |  \n",
            " |  __iter__(self, /)\n",
            " |      Implement iter(self).\n",
            " |  \n",
            " |  __le__(self, value, /)\n",
            " |      Return self<=value.\n",
            " |  \n",
            " |  __len__(self, /)\n",
            " |      Return len(self).\n",
            " |  \n",
            " |  __lt__(self, value, /)\n",
            " |      Return self<value.\n",
            " |  \n",
            " |  __mul__(self, value, /)\n",
            " |      Return self*value.\n",
            " |  \n",
            " |  __ne__(self, value, /)\n",
            " |      Return self!=value.\n",
            " |  \n",
            " |  __repr__(self, /)\n",
            " |      Return repr(self).\n",
            " |  \n",
            " |  __reversed__(self, /)\n",
            " |      Return a reverse iterator over the list.\n",
            " |  \n",
            " |  __rmul__(self, value, /)\n",
            " |      Return value*self.\n",
            " |  \n",
            " |  __setitem__(self, key, value, /)\n",
            " |      Set self[key] to value.\n",
            " |  \n",
            " |  __sizeof__(self, /)\n",
            " |      Return the size of the list in memory, in bytes.\n",
            " |  \n",
            " |  append(self, object, /)\n",
            " |      Append object to the end of the list.\n",
            " |  \n",
            " |  clear(self, /)\n",
            " |      Remove all items from list.\n",
            " |  \n",
            " |  copy(self, /)\n",
            " |      Return a shallow copy of the list.\n",
            " |  \n",
            " |  count(self, value, /)\n",
            " |      Return number of occurrences of value.\n",
            " |  \n",
            " |  extend(self, iterable, /)\n",
            " |      Extend list by appending elements from the iterable.\n",
            " |  \n",
            " |  index(self, value, start=0, stop=9223372036854775807, /)\n",
            " |      Return first index of value.\n",
            " |      \n",
            " |      Raises ValueError if the value is not present.\n",
            " |  \n",
            " |  insert(self, index, object, /)\n",
            " |      Insert object before index.\n",
            " |  \n",
            " |  pop(self, index=-1, /)\n",
            " |      Remove and return item at index (default last).\n",
            " |      \n",
            " |      Raises IndexError if list is empty or index is out of range.\n",
            " |  \n",
            " |  remove(self, value, /)\n",
            " |      Remove first occurrence of value.\n",
            " |      \n",
            " |      Raises ValueError if the value is not present.\n",
            " |  \n",
            " |  reverse(self, /)\n",
            " |      Reverse *IN PLACE*.\n",
            " |  \n",
            " |  sort(self, /, *, key=None, reverse=False)\n",
            " |      Stable sort *IN PLACE*.\n",
            " |  \n",
            " |  ----------------------------------------------------------------------\n",
            " |  Static methods defined here:\n",
            " |  \n",
            " |  __new__(*args, **kwargs) from builtins.type\n",
            " |      Create and return a new object.  See help(type) for accurate signature.\n",
            " |  \n",
            " |  ----------------------------------------------------------------------\n",
            " |  Data and other attributes defined here:\n",
            " |  \n",
            " |  __hash__ = None\n",
            "\n"
          ]
        }
      ]
    },
    {
      "cell_type": "code",
      "source": [
        "#1 How do you access the last element of the following tuple: A=(0,1,2,3)? Select all possible correct answers.\n",
        "A=(0,1,2,3)\n",
        "A[3]\n",
        "# Consider the list: B=[\"a\",\"b\",\"c\"].\n",
        "#What is the result of the following B[1:]?\n",
        "B=[\"a\",\"b\",\"c\"]\n",
        "B[1:]"
      ],
      "metadata": {
        "colab": {
          "base_uri": "https://localhost:8080/"
        },
        "id": "c5LaLhpLGjGQ",
        "outputId": "db8a3102-7d26-4248-c6a0-634ea102969b"
      },
      "execution_count": 108,
      "outputs": [
        {
          "output_type": "execute_result",
          "data": {
            "text/plain": [
              "['b', 'c']"
            ]
          },
          "metadata": {},
          "execution_count": 108
        }
      ]
    },
    {
      "cell_type": "code",
      "source": [
        "#Sets\n",
        "\n",
        "#Creating a Set\n",
        "\n",
        "album_list = [\"Michael Jackson\", \"Thriller\", \"Thriller\", 1982]\n",
        "album_set = set(album_list)\n",
        "print(album_set)"
      ],
      "metadata": {
        "colab": {
          "base_uri": "https://localhost:8080/"
        },
        "id": "QO5063q1HRsa",
        "outputId": "2888bc05-ed6e-4ca8-f5c9-58b757e797b2"
      },
      "execution_count": 112,
      "outputs": [
        {
          "output_type": "stream",
          "name": "stdout",
          "text": [
            "{'Thriller', 1982, 'Michael Jackson'}\n"
          ]
        }
      ]
    },
    {
      "cell_type": "code",
      "source": [
        "# Set operations\n",
        "A= {\"Thriller\",\"Back in Back\", \"AC/DC\"}\n",
        "A.add(\"NSYNC\")\n",
        "print(A)\n",
        "#No add more\n",
        "A.add(\"NSYNC\")\n",
        "print(A)"
      ],
      "metadata": {
        "colab": {
          "base_uri": "https://localhost:8080/"
        },
        "id": "ES4U_420IB7I",
        "outputId": "971a4041-f2ba-4e55-8962-51492670db9f"
      },
      "execution_count": 116,
      "outputs": [
        {
          "output_type": "stream",
          "name": "stdout",
          "text": [
            "{'AC/DC', 'NSYNC', 'Thriller', 'Back in Back'}\n",
            "{'AC/DC', 'NSYNC', 'Thriller', 'Back in Back'}\n"
          ]
        }
      ]
    },
    {
      "cell_type": "code",
      "source": [
        "album_set_1 = {\"AC/DC\", \"Back in Balck\", \"Thriller\"}\n",
        "album_set_2 = {\"AC/DC\", \"Back in Balck\", \"The Dark Side of the Moon\"}\n",
        "#Union of two sets, return the elements in both sets\n",
        "album_set_3 = album_set_1 & album_set_2\n",
        "print(album_set_3)\n",
        "\n",
        "\n",
        "album_set_4 = album_set_1.union(album_set_2)\n",
        "print(album_set_4)\n",
        "\n",
        "print(album_set_3.issubset(album_set_1))"
      ],
      "metadata": {
        "colab": {
          "base_uri": "https://localhost:8080/"
        },
        "id": "1HT79g4SgULF",
        "outputId": "9ee66ce4-c4a5-4f88-b64d-e51bbc145f7b"
      },
      "execution_count": 136,
      "outputs": [
        {
          "output_type": "stream",
          "name": "stdout",
          "text": [
            "{'AC/DC', 'Back in Balck'}\n",
            "{'AC/DC', 'The Dark Side of the Moon', 'Back in Balck', 'Thriller'}\n",
            "True\n"
          ]
        }
      ]
    },
    {
      "cell_type": "code",
      "source": [
        "#1 \n",
        "S={'A','B','C'}\n",
        "U = {'A','Z','C'}\n",
        "print(U.union(S))\n",
        "\n",
        "#2\n",
        "print(S&U)"
      ],
      "metadata": {
        "colab": {
          "base_uri": "https://localhost:8080/"
        },
        "id": "2PSR21JokX6v",
        "outputId": "88c56914-11dc-4261-e878-de85b7d66f68"
      },
      "execution_count": 140,
      "outputs": [
        {
          "output_type": "stream",
          "name": "stdout",
          "text": [
            "{'Z', 'B', 'C', 'A'}\n",
            "{'A', 'C'}\n"
          ]
        }
      ]
    },
    {
      "cell_type": "code",
      "source": [
        "from typing import Dict\n",
        "#Dictionaries\n",
        "\n",
        "DICT = {\"Thriller\" : 1982, \"Black in Back\" : 1980, \"The Dark Side of the Moon\" : 1973, \"The Bodyguard\": 1992}\n",
        "print(DICT[\"Thriller\"])\n",
        "print(DICT[\"The Dark Side of the Moon\"])\n",
        "\n",
        "#Add new Value\n",
        "DICT['Graduation'] = '2007'\n",
        "\n",
        "print(DICT)\n",
        "#Get the keys\n",
        "print(DICT.keys())\n",
        "#Get the values\n",
        "print(DICT.values())\n",
        "\n",
        "\n",
        "#1 D = {'a':0,'b':1,'c':2}\n",
        "#What is the result of the following: D.values()?\n",
        "d = {'a':0,'b':1,'c':3}\n",
        "d.values()\n",
        "\n",
        "#2 Consider the following dictionary:\n",
        "#D = {'a':0,'b':1,'c':2}\n",
        "#What is the output of the following D['b']?*/\n",
        "\n",
        "D = {'a':0,'b':1,'c':2}\n",
        "D['b']"
      ],
      "metadata": {
        "colab": {
          "base_uri": "https://localhost:8080/"
        },
        "id": "m1FBt4Xbllg6",
        "outputId": "300c556d-3691-43bc-a92c-7d42958f72d4"
      },
      "execution_count": 153,
      "outputs": [
        {
          "output_type": "stream",
          "name": "stdout",
          "text": [
            "1982\n",
            "1973\n",
            "{'Thriller': 1982, 'Black in Back': 1980, 'The Dark Side of the Moon': 1973, 'The Bodyguard': 1992, 'Graduation': '2007'}\n",
            "dict_keys(['Thriller', 'Black in Back', 'The Dark Side of the Moon', 'The Bodyguard', 'Graduation'])\n",
            "dict_values([1982, 1980, 1973, 1992, '2007'])\n"
          ]
        },
        {
          "output_type": "execute_result",
          "data": {
            "text/plain": [
              "1"
            ]
          },
          "metadata": {},
          "execution_count": 153
        }
      ]
    },
    {
      "cell_type": "markdown",
      "source": [
        "# Module 3 Python Programming Fundamentals"
      ],
      "metadata": {
        "id": "Y07ujS51pNmm"
      }
    },
    {
      "cell_type": "code",
      "source": [
        "#Compare\n",
        "a=6\n",
        "print(a==7)\n",
        "print(a>5)\n",
        "\n",
        "i= 5\n",
        "print(i>= 5)\n",
        "i= 2\n",
        "print(i>= 5)\n",
        "\n",
        "#Not Equal\n",
        "print(i!=6)\n",
        "\n",
        "print(\"AC/DC\"==\"Michael Jackson\")\n",
        "print(\"AC/DC\"!=\"Michael Jackson\")"
      ],
      "metadata": {
        "colab": {
          "base_uri": "https://localhost:8080/"
        },
        "id": "AC9ffPVmpiGS",
        "outputId": "e6fda85a-c2d2-4e68-bcdc-1af1f10a4c9c"
      },
      "execution_count": 162,
      "outputs": [
        {
          "output_type": "stream",
          "name": "stdout",
          "text": [
            "False\n",
            "True\n",
            "True\n",
            "False\n",
            "True\n",
            "False\n",
            "True\n"
          ]
        }
      ]
    },
    {
      "cell_type": "code",
      "source": [
        "#iF\n",
        "age = 17\n",
        "if(age > 18): \n",
        "  print(\"you can enter\")\n",
        "print(\"move on\")"
      ],
      "metadata": {
        "colab": {
          "base_uri": "https://localhost:8080/"
        },
        "id": "n4QXMAtQqour",
        "outputId": "81567586-10d4-4a75-b612-25a438a890ed"
      },
      "execution_count": 166,
      "outputs": [
        {
          "output_type": "stream",
          "name": "stdout",
          "text": [
            "move on\n"
          ]
        }
      ]
    },
    {
      "cell_type": "code",
      "source": [
        "age = 19\n",
        "if(age > 18): \n",
        "  print(\"you can enter\")\n",
        "print(\"move on\")"
      ],
      "metadata": {
        "colab": {
          "base_uri": "https://localhost:8080/"
        },
        "id": "uyhjur0TrfoQ",
        "outputId": "beb0f97b-674b-4a7d-b264-bfaeb9ab2930"
      },
      "execution_count": 167,
      "outputs": [
        {
          "output_type": "stream",
          "name": "stdout",
          "text": [
            "you can enter\n",
            "move on\n"
          ]
        }
      ]
    },
    {
      "cell_type": "code",
      "source": [
        "if (age>18):\n",
        "  print(\"you can enter\")\n",
        "else:\n",
        "  print(\"go see Meat Laof\")\n",
        "print(\"move on\")"
      ],
      "metadata": {
        "colab": {
          "base_uri": "https://localhost:8080/"
        },
        "id": "4LbsXSv3sEy3",
        "outputId": "711e05ed-b3f3-4f62-bbd7-254d3bd94be6"
      },
      "execution_count": 168,
      "outputs": [
        {
          "output_type": "stream",
          "name": "stdout",
          "text": [
            "you can enter\n",
            "move on\n"
          ]
        }
      ]
    },
    {
      "cell_type": "code",
      "source": [
        "age =17\n",
        "if (age>18):\n",
        "  print(\"you can enter\")\n",
        "else:\n",
        "  print(\"go see Meat Laof\")\n",
        "print(\"move on\")"
      ],
      "metadata": {
        "colab": {
          "base_uri": "https://localhost:8080/"
        },
        "id": "gxFjD3v0scCL",
        "outputId": "e9bf3880-2e8f-49e3-be02-deacdebe8ca9"
      },
      "execution_count": 169,
      "outputs": [
        {
          "output_type": "stream",
          "name": "stdout",
          "text": [
            "go see Meat Laof\n",
            "move on\n"
          ]
        }
      ]
    },
    {
      "cell_type": "code",
      "source": [
        "age = 18\n",
        "if (age>18):\n",
        "  print(\"you can enter\")\n",
        "elif(age==18):\n",
        "  print(\"go see Pink Floyd\")\n",
        "else:\n",
        "  print(\"go see Meat Laof\")\n",
        "print(\"move on\")"
      ],
      "metadata": {
        "colab": {
          "base_uri": "https://localhost:8080/"
        },
        "id": "IYG8zpkPskry",
        "outputId": "2bda0600-f1b6-489d-b9c4-b181dc20e07c"
      },
      "execution_count": 171,
      "outputs": [
        {
          "output_type": "stream",
          "name": "stdout",
          "text": [
            "go see Pink Floyd\n",
            "move on\n"
          ]
        }
      ]
    },
    {
      "cell_type": "code",
      "source": [
        "#Logic Operators\n",
        "print(not(True))\n"
      ],
      "metadata": {
        "colab": {
          "base_uri": "https://localhost:8080/"
        },
        "id": "JhYWMdrxtl7X",
        "outputId": "50437195-fe79-477a-faca-e4807ed68dca"
      },
      "execution_count": 174,
      "outputs": [
        {
          "output_type": "stream",
          "name": "stdout",
          "text": [
            "False\n",
            "The Album was made in the 70's or 90's\n"
          ]
        }
      ]
    },
    {
      "cell_type": "code",
      "source": [
        "#OR\n",
        "album_year = 1990\n",
        "if(album_year < 1980) or (album_year > 1989):\n",
        "  print(\"The Album was made in the 70's or 90's\")\n",
        "else:\n",
        "  print(\"The Album was made in the 1980's\")"
      ],
      "metadata": {
        "colab": {
          "base_uri": "https://localhost:8080/"
        },
        "id": "9ICF7l9-upsd",
        "outputId": "c66d0c41-c5e7-41ef-a198-3d79c6e89ce9"
      },
      "execution_count": 175,
      "outputs": [
        {
          "output_type": "stream",
          "name": "stdout",
          "text": [
            "The Album was made in the 70's or 90's\n"
          ]
        }
      ]
    },
    {
      "cell_type": "code",
      "source": [
        "#AND\n",
        "album_year = 1983\n",
        "if(album_year > 1979) or (album_year < 1990):\n",
        "  print(\"This Album was made in the 80's\")"
      ],
      "metadata": {
        "colab": {
          "base_uri": "https://localhost:8080/"
        },
        "id": "lU6Nan98usbt",
        "outputId": "c53cb1a3-bf87-49de-da7b-125860486b82"
      },
      "execution_count": 176,
      "outputs": [
        {
          "output_type": "stream",
          "name": "stdout",
          "text": [
            "This Album was made in the 80's\n"
          ]
        }
      ]
    },
    {
      "cell_type": "code",
      "source": [
        "#loops\n",
        "squares = [\"red\",\"yellow\",\"green\", \"purple\", \"blue\"]\n",
        "for i in range(0,5):\n",
        "  squares[i]=\"white\"\n",
        "\n",
        "print(squares)\n",
        "squares = [\"red\",\"yellow\",\"green\"]\n",
        "for square in squares:\n",
        "  print(square)"
      ],
      "metadata": {
        "colab": {
          "base_uri": "https://localhost:8080/"
        },
        "id": "VkiA8xqgvbH3",
        "outputId": "1dc878a3-c58c-4966-87f2-cbcbd2613309"
      },
      "execution_count": 183,
      "outputs": [
        {
          "output_type": "stream",
          "name": "stdout",
          "text": [
            "['white', 'white', 'white', 'white', 'white']\n",
            "red\n",
            "yellow\n",
            "green\n"
          ]
        }
      ]
    },
    {
      "cell_type": "code",
      "source": [
        "#While loop\n",
        "squares = [\"orange\",\"orange\", \"purple\", \"orange\",\"orange\"]\n",
        "NewSqures=[]\n",
        "\n",
        "i=0\n",
        "while(squares[i] == \"orange\"):\n",
        "  NewSqures.append(squares[i])\n",
        "  i=i+1\n",
        "print(NewSqures)"
      ],
      "metadata": {
        "colab": {
          "base_uri": "https://localhost:8080/"
        },
        "id": "MxNf6wVDx9jy",
        "outputId": "a94b3603-0362-4363-d736-fbc96c2576a4"
      },
      "execution_count": 185,
      "outputs": [
        {
          "output_type": "stream",
          "name": "stdout",
          "text": [
            "['orange', 'orange']\n"
          ]
        }
      ]
    },
    {
      "cell_type": "code",
      "source": [
        "#Functtions\n",
        "\n",
        "def f1(input):\n",
        "  output = input + 1;\n",
        "  return output\n",
        "\n",
        "def f2(input):\n",
        "  output = input + 2;\n",
        "  return output\n",
        "\n",
        "print(f1(3))\n",
        "print(f2(5))"
      ],
      "metadata": {
        "id": "yXVNmZrE_7ud",
        "outputId": "ffa5cafc-d029-48f2-c1be-bfa55e43c758",
        "colab": {
          "base_uri": "https://localhost:8080/"
        }
      },
      "execution_count": 189,
      "outputs": [
        {
          "output_type": "stream",
          "name": "stdout",
          "text": [
            "4\n",
            "7\n"
          ]
        }
      ]
    },
    {
      "cell_type": "code",
      "source": [
        "#Len function\n",
        "album_ratings = [10.0,8.5,9.5,7.0,7.0,9.5,9.0,9.5]\n",
        "L = len(album_ratings)\n",
        "print(L)"
      ],
      "metadata": {
        "id": "bzj_BGlmBORz",
        "outputId": "8b37e6d9-8a6d-43b2-ca7b-72f5674224d9",
        "colab": {
          "base_uri": "https://localhost:8080/"
        }
      },
      "execution_count": 191,
      "outputs": [
        {
          "output_type": "stream",
          "name": "stdout",
          "text": [
            "8\n"
          ]
        }
      ]
    },
    {
      "cell_type": "code",
      "source": [
        "#Sum Function\n",
        "S = sum(album_ratings)\n",
        "print(S)"
      ],
      "metadata": {
        "id": "jnF_xrm4Bw-A",
        "outputId": "89a11dc0-6e93-4af1-cd0e-033edb5df14b",
        "colab": {
          "base_uri": "https://localhost:8080/"
        }
      },
      "execution_count": 192,
      "outputs": [
        {
          "output_type": "stream",
          "name": "stdout",
          "text": [
            "70.0\n"
          ]
        }
      ]
    },
    {
      "cell_type": "code",
      "source": [
        "#Sorted vs Sort\n",
        "#Sorted create another list\n",
        "sorted_album_rating = sorted(album_ratings)\n",
        "print(sorted_album_rating)\n",
        "\n",
        "#Sort modify same List\n",
        "album_ratings.sort();\n",
        "print(album_ratings)"
      ],
      "metadata": {
        "id": "MvU7zd4EB_aI",
        "outputId": "fd5d03f1-7e13-4458-d0a0-06d239247623",
        "colab": {
          "base_uri": "https://localhost:8080/"
        }
      },
      "execution_count": 196,
      "outputs": [
        {
          "output_type": "stream",
          "name": "stdout",
          "text": [
            "[7.0, 7.0, 8.5, 9.0, 9.5, 9.5, 9.5, 10.0]\n",
            "[7.0, 7.0, 8.5, 9.0, 9.5, 9.5, 9.5, 10.0]\n"
          ]
        }
      ]
    },
    {
      "cell_type": "code",
      "source": [
        "#Documentation string\n",
        "def add1(a):\n",
        "  \"\"\"\"\n",
        "  add 1 to a\n",
        "  \"\"\"\n",
        "  b=a+1\n",
        "  return b\n",
        "\n",
        "c = add1(5)\n",
        "print(c)"
      ],
      "metadata": {
        "id": "J2HZdeNECWq-",
        "outputId": "622762fc-fe5e-4822-ae87-2cd2423cec69",
        "colab": {
          "base_uri": "https://localhost:8080/"
        }
      },
      "execution_count": 201,
      "outputs": [
        {
          "output_type": "stream",
          "name": "stdout",
          "text": [
            "6\n"
          ]
        }
      ]
    },
    {
      "cell_type": "code",
      "source": [
        "#Multiple parameters\n",
        "\n",
        "def Mult(a,b):\n",
        "  c= a*b\n",
        "  return c\n",
        "\n",
        "print(Mult(2,3))\n",
        "print(Mult(10,3.14))\n",
        "print(Mult(2,\"Michael Jackson \"))\n"
      ],
      "metadata": {
        "id": "FJFwDwJyDqkj",
        "outputId": "292802fc-d9eb-4c3a-c784-3d96bc02e042",
        "colab": {
          "base_uri": "https://localhost:8080/"
        }
      },
      "execution_count": 207,
      "outputs": [
        {
          "output_type": "stream",
          "name": "stdout",
          "text": [
            "6\n",
            "31.400000000000002\n",
            "Michael Jackson Michael Jackson \n"
          ]
        }
      ]
    },
    {
      "cell_type": "code",
      "source": [
        "#Function\n",
        "def add11(a):\n",
        "  b= a +1\n",
        "  print(a,\"plus 1 equals\",b)\n",
        "  return b\n",
        "\n",
        "add11(4)\n",
        "add11(5)"
      ],
      "metadata": {
        "id": "_BHtadLzEZZf",
        "outputId": "6adc5f77-aba9-4636-ff22-c23dda70ff59",
        "colab": {
          "base_uri": "https://localhost:8080/"
        }
      },
      "execution_count": 209,
      "outputs": [
        {
          "output_type": "stream",
          "name": "stdout",
          "text": [
            "4 plus 1 equals 5\n",
            "5 plus 1 equals 6\n"
          ]
        },
        {
          "output_type": "execute_result",
          "data": {
            "text/plain": [
              "6"
            ]
          },
          "metadata": {},
          "execution_count": 209
        }
      ]
    },
    {
      "cell_type": "code",
      "source": [
        "def add11(a):\n",
        "  b= a +1\n",
        "  print(a,\"plus 1 equals\",b)\n",
        "\n",
        "add11(4)\n",
        "add11(5)"
      ],
      "metadata": {
        "id": "zYu6EMD-E3M1",
        "outputId": "37ad2470-436c-489b-c0de-9f6d6e6117fd",
        "colab": {
          "base_uri": "https://localhost:8080/"
        }
      },
      "execution_count": 210,
      "outputs": [
        {
          "output_type": "stream",
          "name": "stdout",
          "text": [
            "4 plus 1 equals 5\n",
            "5 plus 1 equals 6\n"
          ]
        }
      ]
    },
    {
      "cell_type": "code",
      "source": [
        "def printStuff(Stuff):\n",
        "  for i,s in enumerate(Stuff):\n",
        "    print(\"Album\", i, \"Rating is \",s)\n",
        "album_ratings = [10.0,8.5,9.5]\n",
        "printStuff(album_ratings)"
      ],
      "metadata": {
        "id": "Kf7eqnc9FSJc",
        "outputId": "fb853872-6faa-4529-8c3b-e29b7ccd6bc0",
        "colab": {
          "base_uri": "https://localhost:8080/"
        }
      },
      "execution_count": 212,
      "outputs": [
        {
          "output_type": "stream",
          "name": "stdout",
          "text": [
            "Album 0 Rating is  10.0\n",
            "Album 1 Rating is  8.5\n",
            "Album 2 Rating is  9.5\n"
          ]
        }
      ]
    },
    {
      "cell_type": "code",
      "source": [
        "def ArtistNames(*names):\n",
        "  for name in names:\n",
        "    print(name)\n",
        "\n",
        "ArtistNames(\"Michael Jackson\", \"AC/DC\",\"Pink Floyd\")\n"
      ],
      "metadata": {
        "id": "fB6FSgtXF_be",
        "outputId": "3754f943-1706-46ff-9ec8-23b6ffd0a6a7",
        "colab": {
          "base_uri": "https://localhost:8080/"
        }
      },
      "execution_count": 213,
      "outputs": [
        {
          "output_type": "stream",
          "name": "stdout",
          "text": [
            "Michael Jackson\n",
            "AC/DC\n",
            "Pink Floyd\n"
          ]
        }
      ]
    },
    {
      "cell_type": "code",
      "source": [
        "ArtistNames(\"Michael Jackson\", \"AC/DC\")"
      ],
      "metadata": {
        "id": "geZvxssPGdTz",
        "outputId": "e21a91ad-d960-49fa-dac0-f3e42f2a67d6",
        "colab": {
          "base_uri": "https://localhost:8080/"
        }
      },
      "execution_count": 214,
      "outputs": [
        {
          "output_type": "stream",
          "name": "stdout",
          "text": [
            "Michael Jackson\n",
            "AC/DC\n"
          ]
        }
      ]
    },
    {
      "cell_type": "code",
      "source": [
        "#Global Scope\n",
        "\n",
        "def AddDC(y):\n",
        "  x=y+\"DC\"   #The curse has an error in this example (x=x+\"DC\")\n",
        "  print(x)\n",
        "  return(x)\n",
        "\n",
        "x= \"AC\"\n",
        "z= AddDC(x)"
      ],
      "metadata": {
        "id": "ebf6ax5CGi5p",
        "outputId": "72914142-5a4c-4641-ea6f-ce0a10717660",
        "colab": {
          "base_uri": "https://localhost:8080/"
        }
      },
      "execution_count": 217,
      "outputs": [
        {
          "output_type": "stream",
          "name": "stdout",
          "text": [
            "ACDC\n"
          ]
        }
      ]
    },
    {
      "cell_type": "code",
      "source": [
        "# Local Variables\n",
        "def Thriller():\n",
        "  Date = 1982\n",
        "  return (Date)\n",
        "Date = 2017\n",
        "print(Thriller())\n",
        "print(Date)\n",
        "\n",
        "Data = Thriller()\n",
        "print(Date)"
      ],
      "metadata": {
        "id": "paLw25CRG8fc",
        "outputId": "d9467bbe-e467-402b-f4a8-bc62429a9115",
        "colab": {
          "base_uri": "https://localhost:8080/"
        }
      },
      "execution_count": 226,
      "outputs": [
        {
          "output_type": "stream",
          "name": "stdout",
          "text": [
            "1982\n",
            "2017\n",
            "2017\n"
          ]
        }
      ]
    },
    {
      "cell_type": "code",
      "source": [
        "# Variables\n",
        "def ACDC(y):\n",
        "  print(Rating)\n",
        "  return(Rating + y)\n",
        "Rating = 9\n",
        "z= ACDC(1)\n",
        "print(Rating)\n",
        "print(z)"
      ],
      "metadata": {
        "id": "U_Xr7AmBIetX",
        "outputId": "21fbbea4-ada2-44dc-9811-052d431179b4",
        "colab": {
          "base_uri": "https://localhost:8080/"
        }
      },
      "execution_count": 229,
      "outputs": [
        {
          "output_type": "stream",
          "name": "stdout",
          "text": [
            "9\n",
            "9\n",
            "10\n"
          ]
        }
      ]
    },
    {
      "cell_type": "code",
      "source": [
        "#Global Variable\n",
        "def PinkFloyd():\n",
        "  global ClaimedSales\n",
        "  ClaimedSales = '45 million'\n",
        "  return ClaimedSales\n",
        "PinkFloyd()\n",
        "print(ClaimedSales)"
      ],
      "metadata": {
        "id": "CNTCL9DKJGN9",
        "outputId": "f62cf1e2-14d7-41a9-bd18-bc032508cb21",
        "colab": {
          "base_uri": "https://localhost:8080/"
        }
      },
      "execution_count": 231,
      "outputs": [
        {
          "output_type": "stream",
          "name": "stdout",
          "text": [
            "45 million\n"
          ]
        }
      ]
    },
    {
      "cell_type": "code",
      "source": [
        "from IPython.core.magics.namespace import NamespaceMagics\n",
        "#Object and Classes\n",
        "#Classes contain Data Attibutes, Methods, objects\n",
        "\n",
        "class Circle(object):\n",
        "  def __init__(self, radius,color):\n",
        "    self.radius = radius\n",
        "    self.color = color\n",
        "  \n",
        "  def add_radius(self,r):\n",
        "    self.radius = self.radius + r\n",
        "    return(self.radius)\n",
        "    \n",
        "\n",
        "redCircle = Circle(10,\"red\")\n",
        "\n",
        "print(redCircle.color)\n",
        "print(redCircle.radius)\n",
        "\n",
        "c1 = Circle(2,\"Yellow\")\n",
        "print(c1.radius)\n",
        "print(c1.color)\n",
        "c1.add_radius(8)\n",
        "\n",
        "print(c1.radius)\n"
      ],
      "metadata": {
        "id": "g2ILxZCnJWvw",
        "outputId": "1b508b29-27f5-45a6-a2a5-089da77bac58",
        "colab": {
          "base_uri": "https://localhost:8080/"
        }
      },
      "execution_count": 247,
      "outputs": [
        {
          "output_type": "stream",
          "name": "stdout",
          "text": [
            "red\n",
            "10\n",
            "2\n",
            "Yellow\n",
            "10\n"
          ]
        }
      ]
    },
    {
      "cell_type": "code",
      "source": [
        "class Car(object):\n",
        "  def __init__(self, make,model,color):\n",
        "    self.make = make\n",
        "    self.model = model\n",
        "    self.color = color\n",
        "car1 = Car(\"Honda\", \"Accord\",\"Blue\")\n"
      ],
      "metadata": {
        "id": "LciiTQiyPbUg"
      },
      "execution_count": 249,
      "outputs": []
    }
  ]
}