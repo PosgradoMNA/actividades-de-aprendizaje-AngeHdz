{
  "nbformat": 4,
  "nbformat_minor": 0,
  "metadata": {
    "colab": {
      "name": "assignment01.ipynb",
      "provenance": [],
      "include_colab_link": true
    },
    "kernelspec": {
      "name": "python3",
      "display_name": "Python 3"
    },
    "language_info": {
      "name": "python"
    }
  },
  "cells": [
    {
      "cell_type": "markdown",
      "metadata": {
        "id": "view-in-github",
        "colab_type": "text"
      },
      "source": [
        "<a href=\"https://colab.research.google.com/github/PosgradoMNA/actividades-de-aprendizaje-AngeHdz/blob/main/Create%20Actividad_de_semana1-2_PythonforDataScience(IBM).ipynb\" target=\"_parent\"><img src=\"https://colab.research.google.com/assets/colab-badge.svg\" alt=\"Open In Colab\"/></a>"
      ]
    },
    {
      "cell_type": "markdown",
      "source": [
        "# Modulo 1 - Python Basics"
      ],
      "metadata": {
        "id": "qVWPua6tvOjB"
      }
    },
    {
      "cell_type": "code",
      "source": [
        "# Print Hello Python 101\n",
        "print('Hello Python 101')"
      ],
      "metadata": {
        "colab": {
          "base_uri": "https://localhost:8080/"
        },
        "id": "VrYG5txRvbkb",
        "outputId": "69747b6d-c61d-49b8-89ba-76ac8fa2ed5a"
      },
      "execution_count": 3,
      "outputs": [
        {
          "output_type": "stream",
          "name": "stdout",
          "text": [
            "Hello Python 101\n"
          ]
        }
      ]
    },
    {
      "cell_type": "code",
      "source": [
        "#Question 1 executing print(\"Hello\\nworl!\")\n",
        "print(\"Hello\\nworl!\")"
      ],
      "metadata": {
        "colab": {
          "base_uri": "https://localhost:8080/"
        },
        "id": "4GFfdzW1wb5j",
        "outputId": "47785160-b1b9-4a7d-8af2-a1e674dfe231"
      },
      "execution_count": 4,
      "outputs": [
        {
          "output_type": "stream",
          "name": "stdout",
          "text": [
            "Hello\n",
            "worl!\n"
          ]
        }
      ]
    },
    {
      "cell_type": "code",
      "source": [
        "# Question 2 #print('Hello World!')\n",
        "#print('Hello World!')"
      ],
      "metadata": {
        "id": "AMue0JtCwrxY"
      },
      "execution_count": 6,
      "outputs": []
    },
    {
      "cell_type": "code",
      "source": [
        "#Enter the code to convert the number 1 to a Boolean.\n",
        "bool(1)"
      ],
      "metadata": {
        "id": "3hPyO71_y75Q",
        "outputId": "5ba9088f-bdc3-47b1-f3ad-de473a82158a",
        "colab": {
          "base_uri": "https://localhost:8080/"
        }
      },
      "execution_count": 7,
      "outputs": [
        {
          "output_type": "execute_result",
          "data": {
            "text/plain": [
              "True"
            ]
          },
          "metadata": {},
          "execution_count": 7
        }
      ]
    },
    {
      "cell_type": "code",
      "source": [
        "#String \n",
        "\n",
        "Name = \"Michael Jackson\"\n",
        "\n",
        "print(Name[0])\n",
        "print(Name[6])\n",
        "print(Name[13])\n",
        "\n",
        "print(Name[-1])\n",
        "print(Name[-15])\n",
        "\n",
        "#String: Slicing\n",
        "print(Name[0:4])\n",
        "print(Name[8:12])\n",
        "\n",
        "#String: Stride\n",
        "print(Name[::2])\n",
        "print(Name[0:5:2])\n",
        "\n",
        "len(\"Michael Jackson\")\n",
        "\n",
        "Statement = Name + \" is the best\"\n",
        "print(Statement)\n",
        "\n",
        "#Tuples\n",
        "\n",
        "print(3*\"Michael Jackson \")\n",
        "\n",
        "#String: Inmutable\n",
        "\n",
        "Name = Name + \" is the best\"\n",
        "print(Name)\n",
        "\n",
        "\n",
        "#String: escape sequences\n",
        "\n",
        "#New line\n",
        "print(\"Michael Jackson \\n is the best\")\n",
        "\n",
        "#Tab\n",
        "print(\"Michael Jacson \\t is the best\")\n",
        "\n",
        "#Print a backslash\n",
        "print(\"Michael Jackson \\\\ is the best\")\n",
        "print(r\"Michael Jackson \\ is the best\")"
      ],
      "metadata": {
        "id": "79juuDc71GTg",
        "outputId": "4086d36c-4048-4183-b17b-5dfb88d0bd70",
        "colab": {
          "base_uri": "https://localhost:8080/"
        }
      },
      "execution_count": 26,
      "outputs": [
        {
          "output_type": "stream",
          "name": "stdout",
          "text": [
            "M\n",
            "l\n",
            "o\n",
            "n\n",
            "M\n",
            "Mich\n",
            "Jack\n",
            "McalJcsn\n",
            "Mca\n",
            "Michael Jackson is the best\n",
            "Michael Jackson Michael Jackson Michael Jackson \n",
            "Michael Jackson is the best\n",
            "Michael Jackson \n",
            " is the best\n",
            "Michael Jacson \t is the best\n",
            "Michael Jackson \\ is the best\n",
            "Michael Jackson \\ is the best\n"
          ]
        }
      ]
    },
    {
      "cell_type": "code",
      "source": [
        "#String Methods\n",
        "\n",
        "#Method upper()\n",
        "A = \"Thriller is the sixth studio album\"\n",
        "B = A.upper();\n",
        "print(B)\n",
        "\n",
        "#Method replace()\n",
        "A = 'Michael Jackson is the best'\n",
        "B= A.replace('Michael','Janet')\n",
        "print(B)\n",
        "\n",
        "#Method find\n",
        "Name = \"Michael Jackson\"\n",
        "print(Name.find('el'))\n",
        "print(Name.find('Jack'))\n",
        "print(Name.find('&*D'))\n",
        "\n",
        "\n",
        "#Question1 Numbers = '0123456'\n",
        "Numbers = '0123456'\n",
        "Numbers[::2]\n",
        "\n",
        "#Question2 \"0123456\".find('1')\n",
        "\"0123456\".find('1')\n",
        "\n",
        "\n",
        "#Review Questions\n",
        "\n",
        "#1 What is the result of the following operation in Python:3+2*2\n",
        "3+2*2\n",
        "#2 In Python, if you executed name = 'Lizz', what would be the output of print(name[0:2])?\n",
        "name = 'Lizz'\n",
        "print(name[0:2])\n",
        "#3 In Python, if you executed var = '01234567', what would be the result of print(var[::2])?\n",
        "var= '01234567'\n",
        "print(var[::2])\n",
        "#4 In Python, what is the result of the following operation '1'+'2'?\n",
        "'1' + '2'\n",
        "#5 Given myvar = 'hello', how would you convert myvar into uppercase?\n",
        "myvar = 'hello'\n",
        "myvar.upper()"
      ],
      "metadata": {
        "id": "IVX_kYfa4x6Z",
        "outputId": "dd2a10e2-0190-437b-f459-ec384513e379",
        "colab": {
          "base_uri": "https://localhost:8080/",
          "height": 157
        }
      },
      "execution_count": 50,
      "outputs": [
        {
          "output_type": "stream",
          "name": "stdout",
          "text": [
            "THRILLER IS THE SIXTH STUDIO ALBUM\n",
            "Janet Jackson is the best\n",
            "5\n",
            "8\n",
            "-1\n",
            "Li\n",
            "0246\n"
          ]
        },
        {
          "output_type": "execute_result",
          "data": {
            "text/plain": [
              "'HELLO'"
            ],
            "application/vnd.google.colaboratory.intrinsic+json": {
              "type": "string"
            }
          },
          "metadata": {},
          "execution_count": 50
        }
      ]
    },
    {
      "cell_type": "markdown",
      "source": [
        "# Module 2 - Python Data Structures"
      ],
      "metadata": {
        "id": "CifQAd2Q92m1"
      }
    },
    {
      "cell_type": "code",
      "source": [],
      "metadata": {
        "id": "GBCew0Yw-Gro"
      },
      "execution_count": null,
      "outputs": []
    }
  ]
}