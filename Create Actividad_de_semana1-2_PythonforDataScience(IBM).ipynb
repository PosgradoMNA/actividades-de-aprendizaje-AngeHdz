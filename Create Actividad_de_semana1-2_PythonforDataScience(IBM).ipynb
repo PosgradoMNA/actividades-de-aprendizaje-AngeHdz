{
  "nbformat": 4,
  "nbformat_minor": 0,
  "metadata": {
    "colab": {
      "name": "assignment01.ipynb",
      "provenance": [],
      "include_colab_link": true
    },
    "kernelspec": {
      "name": "python3",
      "display_name": "Python 3"
    },
    "language_info": {
      "name": "python"
    }
  },
  "cells": [
    {
      "cell_type": "markdown",
      "metadata": {
        "id": "view-in-github",
        "colab_type": "text"
      },
      "source": [
        "<a href=\"https://colab.research.google.com/github/PosgradoMNA/actividades-de-aprendizaje-AngeHdz/blob/main/Create%20Actividad_de_semana1-2_PythonforDataScience(IBM).ipynb\" target=\"_parent\"><img src=\"https://colab.research.google.com/assets/colab-badge.svg\" alt=\"Open In Colab\"/></a>"
      ]
    },
    {
      "cell_type": "markdown",
      "source": [
        "# Modulo 1 - Python Basics"
      ],
      "metadata": {
        "id": "qVWPua6tvOjB"
      }
    },
    {
      "cell_type": "code",
      "source": [
        "# Print Hello Python 101\n",
        "print('Hello Python 101')"
      ],
      "metadata": {
        "colab": {
          "base_uri": "https://localhost:8080/"
        },
        "id": "VrYG5txRvbkb",
        "outputId": "69747b6d-c61d-49b8-89ba-76ac8fa2ed5a"
      },
      "execution_count": 3,
      "outputs": [
        {
          "output_type": "stream",
          "name": "stdout",
          "text": [
            "Hello Python 101\n"
          ]
        }
      ]
    },
    {
      "cell_type": "code",
      "source": [
        "#Question 1 executing print(\"Hello\\nworl!\")\n",
        "print(\"Hello\\nworl!\")"
      ],
      "metadata": {
        "colab": {
          "base_uri": "https://localhost:8080/"
        },
        "id": "4GFfdzW1wb5j",
        "outputId": "47785160-b1b9-4a7d-8af2-a1e674dfe231"
      },
      "execution_count": 4,
      "outputs": [
        {
          "output_type": "stream",
          "name": "stdout",
          "text": [
            "Hello\n",
            "worl!\n"
          ]
        }
      ]
    },
    {
      "cell_type": "code",
      "source": [
        "# Question 2 #print('Hello World!')\n",
        "#print('Hello World!')"
      ],
      "metadata": {
        "id": "AMue0JtCwrxY"
      },
      "execution_count": 6,
      "outputs": []
    },
    {
      "cell_type": "code",
      "source": [
        "#Enter the code to convert the number 1 to a Boolean.\n",
        "bool(1)"
      ],
      "metadata": {
        "colab": {
          "base_uri": "https://localhost:8080/"
        },
        "id": "3hPyO71_y75Q",
        "outputId": "5ba9088f-bdc3-47b1-f3ad-de473a82158a"
      },
      "execution_count": 7,
      "outputs": [
        {
          "output_type": "execute_result",
          "data": {
            "text/plain": [
              "True"
            ]
          },
          "metadata": {},
          "execution_count": 7
        }
      ]
    },
    {
      "cell_type": "code",
      "source": [
        "#String \n",
        "\n",
        "Name = \"Michael Jackson\"\n",
        "\n",
        "print(Name[0])\n",
        "print(Name[6])\n",
        "print(Name[13])\n",
        "\n",
        "print(Name[-1])\n",
        "print(Name[-15])\n",
        "\n",
        "#String: Slicing\n",
        "print(Name[0:4])\n",
        "print(Name[8:12])\n",
        "\n",
        "#String: Stride\n",
        "print(Name[::2])\n",
        "print(Name[0:5:2])\n",
        "\n",
        "len(\"Michael Jackson\")\n",
        "\n",
        "Statement = Name + \" is the best\"\n",
        "print(Statement)\n",
        "\n",
        "#Tuples\n",
        "\n",
        "print(3*\"Michael Jackson \")\n",
        "\n",
        "#String: Inmutable\n",
        "\n",
        "Name = Name + \" is the best\"\n",
        "print(Name)\n",
        "\n",
        "\n",
        "#String: escape sequences\n",
        "\n",
        "#New line\n",
        "print(\"Michael Jackson \\n is the best\")\n",
        "\n",
        "#Tab\n",
        "print(\"Michael Jacson \\t is the best\")\n",
        "\n",
        "#Print a backslash\n",
        "print(\"Michael Jackson \\\\ is the best\")\n",
        "print(r\"Michael Jackson \\ is the best\")"
      ],
      "metadata": {
        "colab": {
          "base_uri": "https://localhost:8080/"
        },
        "id": "79juuDc71GTg",
        "outputId": "4086d36c-4048-4183-b17b-5dfb88d0bd70"
      },
      "execution_count": 26,
      "outputs": [
        {
          "output_type": "stream",
          "name": "stdout",
          "text": [
            "M\n",
            "l\n",
            "o\n",
            "n\n",
            "M\n",
            "Mich\n",
            "Jack\n",
            "McalJcsn\n",
            "Mca\n",
            "Michael Jackson is the best\n",
            "Michael Jackson Michael Jackson Michael Jackson \n",
            "Michael Jackson is the best\n",
            "Michael Jackson \n",
            " is the best\n",
            "Michael Jacson \t is the best\n",
            "Michael Jackson \\ is the best\n",
            "Michael Jackson \\ is the best\n"
          ]
        }
      ]
    },
    {
      "cell_type": "code",
      "source": [
        "#String Methods\n",
        "\n",
        "#Method upper()\n",
        "A = \"Thriller is the sixth studio album\"\n",
        "B = A.upper();\n",
        "print(B)\n",
        "\n",
        "#Method replace()\n",
        "A = 'Michael Jackson is the best'\n",
        "B= A.replace('Michael','Janet')\n",
        "print(B)\n",
        "\n",
        "#Method find\n",
        "Name = \"Michael Jackson\"\n",
        "print(Name.find('el'))\n",
        "print(Name.find('Jack'))\n",
        "print(Name.find('&*D'))\n",
        "\n",
        "\n",
        "#Question1 Numbers = '0123456'\n",
        "Numbers = '0123456'\n",
        "Numbers[::2]\n",
        "\n",
        "#Question2 \"0123456\".find('1')\n",
        "\"0123456\".find('1')\n",
        "\n",
        "\n",
        "#Review Questions\n",
        "\n",
        "#1 What is the result of the following operation in Python:3+2*2\n",
        "3+2*2\n",
        "#2 In Python, if you executed name = 'Lizz', what would be the output of print(name[0:2])?\n",
        "name = 'Lizz'\n",
        "print(name[0:2])\n",
        "#3 In Python, if you executed var = '01234567', what would be the result of print(var[::2])?\n",
        "var= '01234567'\n",
        "print(var[::2])\n",
        "#4 In Python, what is the result of the following operation '1'+'2'?\n",
        "'1' + '2'\n",
        "#5 Given myvar = 'hello', how would you convert myvar into uppercase?\n",
        "myvar = 'hello'\n",
        "myvar.upper()"
      ],
      "metadata": {
        "colab": {
          "base_uri": "https://localhost:8080/",
          "height": 157
        },
        "id": "IVX_kYfa4x6Z",
        "outputId": "dd2a10e2-0190-437b-f459-ec384513e379"
      },
      "execution_count": 50,
      "outputs": [
        {
          "output_type": "stream",
          "name": "stdout",
          "text": [
            "THRILLER IS THE SIXTH STUDIO ALBUM\n",
            "Janet Jackson is the best\n",
            "5\n",
            "8\n",
            "-1\n",
            "Li\n",
            "0246\n"
          ]
        },
        {
          "output_type": "execute_result",
          "data": {
            "text/plain": [
              "'HELLO'"
            ],
            "application/vnd.google.colaboratory.intrinsic+json": {
              "type": "string"
            }
          },
          "metadata": {},
          "execution_count": 50
        }
      ]
    },
    {
      "cell_type": "markdown",
      "source": [
        "# Module 2 - Python Data Structures"
      ],
      "metadata": {
        "id": "CifQAd2Q92m1"
      }
    },
    {
      "cell_type": "code",
      "source": [
        "# Tuples\n",
        "Rating = (10,9,6,5,10,8,9,6,2)\n",
        "Tuple1 =('disco',10,1.2)\n",
        "type(Tuple1)\n",
        "print(Tuple1[0])\n",
        "print(Tuple1[1])\n",
        "print(Tuple1[2])\n",
        "print('/////////////')\n",
        "print(Tuple1[-3])\n",
        "print(Tuple1[-2])\n",
        "print(Tuple1[-1])\n",
        "\n",
        "Tuple2 = Tuple1 + (\"hard rock\", 10)\n",
        "print(Tuple2)\n",
        "#Get the firts 3 elements\n",
        "print(Tuple2[0:3])\n",
        "#Get the last 2 elements\n",
        "print(Tuple2[3:5])\n",
        "#Get de Lenght\n",
        "print(len(Tuple2))\n",
        "\n",
        "\n",
        "#Tuples: Immutable\n",
        "print(\"#Tuples: Immutable////////////////////////////////\")\n",
        "Ratings = (10,9,6,5,10,8,9,6,2)\n",
        "RatingSorted = sorted(Ratings)\n",
        "print(RatingSorted)\n",
        "\n",
        "#List\n",
        "print(\"#List////////////////////////////////\")\n",
        "L= [\"Michael Jackson\", 10.1,1982]\n",
        "print(L)\n",
        "print(L[0])\n",
        "print(L[1])\n",
        "print(L[2])\n",
        "print(L[-3])\n",
        "print(L[-2])\n",
        "print(L[-1])\n",
        "\n",
        "L= [\"Michael Jackson\", 10.1,1982,\"MJ\",1]\n",
        "print(L[3:5])\n",
        "\n",
        "L=[\"Michael Jackson\",10.1,1982] \n",
        "L1 = L + [\"pop\",10]\n",
        "print(L1)\n",
        "L.extend([\"pop\",10])\n",
        "print(L)\n",
        "L=[\"Michael Jackson\",10.1,1982] \n",
        "L.append([\"pop\",10])\n",
        "print(L)\n",
        "\n",
        "#Modify a value in a List\n",
        "A = [\"disco\",10,1.2]\n",
        "A[0] = \"hard rock\"\n",
        "print(A)\n",
        "#Delete the first element\n",
        "del(A[0])\n",
        "print(A)\n",
        "\n",
        "print(\"hard rock\".split())\n",
        "\n",
        "print(\"A,B,C,D\".split(\",\"))"
      ],
      "metadata": {
        "colab": {
          "base_uri": "https://localhost:8080/"
        },
        "id": "GBCew0Yw-Gro",
        "outputId": "b72a23a0-c62b-49d8-a3f7-107c5d73ddb2"
      },
      "execution_count": 100,
      "outputs": [
        {
          "output_type": "stream",
          "name": "stdout",
          "text": [
            "disco\n",
            "10\n",
            "1.2\n",
            "/////////////\n",
            "disco\n",
            "10\n",
            "1.2\n",
            "('disco', 10, 1.2, 'hard rock', 10)\n",
            "('disco', 10, 1.2)\n",
            "('hard rock', 10)\n",
            "5\n",
            "#Tuples: Immutable////////////////////////////////\n",
            "[2, 5, 6, 6, 8, 9, 9, 10, 10]\n",
            "#List////////////////////////////////\n",
            "['Michael Jackson', 10.1, 1982]\n",
            "Michael Jackson\n",
            "10.1\n",
            "1982\n",
            "Michael Jackson\n",
            "10.1\n",
            "1982\n",
            "['MJ', 1]\n",
            "['Michael Jackson', 10.1, 1982, 'pop', 10]\n",
            "['Michael Jackson', 10.1, 1982, 'pop', 10]\n",
            "['Michael Jackson', 10.1, 1982, ['pop', 10]]\n",
            "['hard rock', 10, 1.2]\n",
            "[10, 1.2]\n",
            "['hard', 'rock']\n",
            "['A', 'B', 'C', 'D']\n",
            "['banana', 10, 1.2]\n",
            "['banana', 10, 1.2]\n",
            "['banana', 10, 1.2]\n",
            "['hard rock', 10, 1.2]\n"
          ]
        }
      ]
    },
    {
      "cell_type": "code",
      "source": [
        "#List Aliasing\n",
        "A = [\"hard rock\",10,1.2]\n",
        "B = A\n",
        "A[0] = \"banana\"\n",
        "print(A)\n",
        "print(B)"
      ],
      "metadata": {
        "id": "qMBLiXM7GBx-",
        "outputId": "e1c9e8aa-220c-4916-f75a-361f5cc4f4bd",
        "colab": {
          "base_uri": "https://localhost:8080/"
        }
      },
      "execution_count": 101,
      "outputs": [
        {
          "output_type": "stream",
          "name": "stdout",
          "text": [
            "['banana', 10, 1.2]\n",
            "['banana', 10, 1.2]\n"
          ]
        }
      ]
    },
    {
      "cell_type": "code",
      "source": [
        "\n",
        "#List Clone\n",
        "A = [\"hard rock\",10,1.2]\n",
        "B = A[:]\n",
        "A[0] = \"banana\"\n",
        "print(A)\n",
        "print(B)"
      ],
      "metadata": {
        "id": "7XW3KyYvGHYG",
        "outputId": "80c7c084-8135-42d9-ed9b-49e89ab08d00",
        "colab": {
          "base_uri": "https://localhost:8080/"
        }
      },
      "execution_count": 102,
      "outputs": [
        {
          "output_type": "stream",
          "name": "stdout",
          "text": [
            "['banana', 10, 1.2]\n",
            "['hard rock', 10, 1.2]\n"
          ]
        }
      ]
    }
  ]
}