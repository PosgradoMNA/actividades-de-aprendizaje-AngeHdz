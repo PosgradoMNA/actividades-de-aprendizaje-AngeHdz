{
  "nbformat": 4,
  "nbformat_minor": 0,
  "metadata": {
    "colab": {
      "name": "assignment01.ipynb",
      "provenance": [],
      "include_colab_link": true
    },
    "kernelspec": {
      "name": "python3",
      "display_name": "Python 3"
    },
    "language_info": {
      "name": "python"
    }
  },
  "cells": [
    {
      "cell_type": "markdown",
      "metadata": {
        "id": "view-in-github",
        "colab_type": "text"
      },
      "source": [
        "<a href=\"https://colab.research.google.com/github/PosgradoMNA/actividades-de-aprendizaje-AngeHdz/blob/main/Create%20Actividad_de_semana1-2_PythonforDataScience(IBM).ipynb\" target=\"_parent\"><img src=\"https://colab.research.google.com/assets/colab-badge.svg\" alt=\"Open In Colab\"/></a>"
      ]
    },
    {
      "cell_type": "markdown",
      "source": [
        "# Modulo 1 - Python Basics"
      ],
      "metadata": {
        "id": "qVWPua6tvOjB"
      }
    },
    {
      "cell_type": "code",
      "source": [
        "# Print Hello Python 101\n",
        "print('Hello Python 101')"
      ],
      "metadata": {
        "colab": {
          "base_uri": "https://localhost:8080/"
        },
        "id": "VrYG5txRvbkb",
        "outputId": "69747b6d-c61d-49b8-89ba-76ac8fa2ed5a"
      },
      "execution_count": 3,
      "outputs": [
        {
          "output_type": "stream",
          "name": "stdout",
          "text": [
            "Hello Python 101\n"
          ]
        }
      ]
    },
    {
      "cell_type": "code",
      "source": [
        "#Question 1 executing print(\"Hello\\nworl!\")\n",
        "print(\"Hello\\nworl!\")"
      ],
      "metadata": {
        "id": "4GFfdzW1wb5j",
        "outputId": "47785160-b1b9-4a7d-8af2-a1e674dfe231",
        "colab": {
          "base_uri": "https://localhost:8080/"
        }
      },
      "execution_count": 4,
      "outputs": [
        {
          "output_type": "stream",
          "name": "stdout",
          "text": [
            "Hello\n",
            "worl!\n"
          ]
        }
      ]
    },
    {
      "cell_type": "code",
      "source": [
        "# Question 2 #print('Hello World!')\n",
        "#print('Hello World!')"
      ],
      "metadata": {
        "id": "AMue0JtCwrxY"
      },
      "execution_count": 6,
      "outputs": []
    }
  ]
}