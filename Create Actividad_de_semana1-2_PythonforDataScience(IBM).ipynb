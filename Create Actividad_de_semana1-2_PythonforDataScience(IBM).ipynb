{
  "nbformat": 4,
  "nbformat_minor": 0,
  "metadata": {
    "colab": {
      "name": "assignment01.ipynb",
      "provenance": [],
      "include_colab_link": true
    },
    "kernelspec": {
      "name": "python3",
      "display_name": "Python 3"
    },
    "language_info": {
      "name": "python"
    }
  },
  "cells": [
    {
      "cell_type": "markdown",
      "metadata": {
        "id": "view-in-github",
        "colab_type": "text"
      },
      "source": [
        "<a href=\"https://colab.research.google.com/github/PosgradoMNA/actividades-de-aprendizaje-AngeHdz/blob/main/Create%20Actividad_de_semana1-2_PythonforDataScience(IBM).ipynb\" target=\"_parent\"><img src=\"https://colab.research.google.com/assets/colab-badge.svg\" alt=\"Open In Colab\"/></a>"
      ]
    },
    {
      "cell_type": "markdown",
      "source": [
        "# Modulo 1 - Python Basics"
      ],
      "metadata": {
        "id": "qVWPua6tvOjB"
      }
    },
    {
      "cell_type": "code",
      "source": [
        "print(\"Hello Python 101\")"
      ],
      "metadata": {
        "id": "VrYG5txRvbkb",
        "outputId": "b35298ee-0a6b-490a-bc2d-a2cc42faf05c",
        "colab": {
          "base_uri": "https://localhost:8080/"
        }
      },
      "execution_count": 1,
      "outputs": [
        {
          "output_type": "stream",
          "name": "stdout",
          "text": [
            "Hello Python 101\n"
          ]
        }
      ]
    }
  ]
}